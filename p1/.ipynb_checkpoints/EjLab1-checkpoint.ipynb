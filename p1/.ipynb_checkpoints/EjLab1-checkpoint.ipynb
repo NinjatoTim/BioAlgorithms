{
 "cells": [
  {
   "cell_type": "markdown",
   "id": "17e5af85-6eec-45a6-8b1d-2ca94bc4acf5",
   "metadata": {},
   "source": [
    "Ejercicio laboratorio 1"
   ]
  },
  {
   "cell_type": "code",
   "execution_count": 4,
   "id": "8b8cac79-6711-49db-b7e3-adaf52d4790a",
   "metadata": {},
   "outputs": [
    {
     "name": "stdout",
     "output_type": "stream",
     "text": [
      "60\n"
     ]
    }
   ],
   "source": [
    "def f25(x):\n",
    "    a=0\n",
    "    b=0\n",
    "    r=a+b\n",
    "    for i in range (len(x)):\n",
    "        a+=x[i]\n",
    "        b*=x[i]\n",
    "        r=a+b \n",
    "    return r;\n",
    "\n",
    "print(f25([20,-10,50]));"
   ]
  },
  {
   "cell_type": "code",
   "execution_count": null,
   "id": "0610df17-93ab-46dd-9d06-3991ffa9e30b",
   "metadata": {},
   "outputs": [],
   "source": [
    "def f11(x):\n",
    "    ta=0 ##Sumatoria a xi^2 -D\n",
    "    tb=0 ##Sumatoria b xi^2\n",
    "    tc=0 ##Sumatoria c xi\n",
    "    dl=len(x) ##D\n",
    "    for i in range dl:\n",
    "        ta+=(x[i]**2) - dl\n",
    "        tb+=x[i]**2\n",
    "        tc+=x[i]\n",
    "    ##integraci"
   ]
  },
  {
   "cell_type": "code",
   "execution_count": 5,
   "id": "0834ea9c-c16d-42dc-a712-19b2391e0a66",
   "metadata": {},
   "outputs": [
    {
     "name": "stdout",
     "output_type": "stream",
     "text": [
      "49\n"
     ]
    }
   ],
   "source": [
    "print( 7 **2)\n"
   ]
  },
  {
   "cell_type": "code",
   "execution_count": null,
   "id": "4ed8696b-2dee-482c-88ae-7a99ed30f5f9",
   "metadata": {},
   "outputs": [],
   "source": []
  }
 ],
 "metadata": {
  "kernelspec": {
   "display_name": "main-py3",
   "language": "python",
   "name": "main-py3"
  },
  "language_info": {
   "codemirror_mode": {
    "name": "ipython",
    "version": 3
   },
   "file_extension": ".py",
   "mimetype": "text/x-python",
   "name": "python",
   "nbconvert_exporter": "python",
   "pygments_lexer": "ipython3",
   "version": "3.11.3"
  }
 },
 "nbformat": 4,
 "nbformat_minor": 5
}
