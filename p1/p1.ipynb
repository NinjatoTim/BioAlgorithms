{
 "cells": [
  {
   "cell_type": "code",
   "execution_count": 1,
   "id": "caf1bf21-684a-4948-b073-8cc9d625fa23",
   "metadata": {},
   "outputs": [
    {
     "name": "stdout",
     "output_type": "stream",
     "text": [
      "buenas\n"
     ]
    }
   ],
   "source": [
    "print(\"buenas\")"
   ]
  },
  {
   "cell_type": "code",
   "execution_count": 3,
   "id": "f36d7e55-dea3-4040-8b23-276a3447ab76",
   "metadata": {},
   "outputs": [],
   "source": [
    "import numpy as np\n",
    "import matplotlib.pyplot as plt\n",
    "from pylab import *"
   ]
  },
  {
   "cell_type": "code",
   "execution_count": null,
   "id": "14e21297-4dde-4c95-9066-12c6b8785058",
   "metadata": {},
   "outputs": [],
   "source": []
  },
  {
   "cell_type": "code",
   "execution_count": null,
   "id": "0317029e-3438-45b6-93dd-b5e8fd7c4c30",
   "metadata": {},
   "outputs": [],
   "source": []
  },
  {
   "cell_type": "code",
   "execution_count": null,
   "id": "cb3ad867-8a5b-4c43-b549-e3e5b02c37c8",
   "metadata": {},
   "outputs": [],
   "source": []
  }
 ],
 "metadata": {
  "kernelspec": {
   "display_name": "main-py3",
   "language": "python",
   "name": "main-py3"
  },
  "language_info": {
   "codemirror_mode": {
    "name": "ipython",
    "version": 3
   },
   "file_extension": ".py",
   "mimetype": "text/x-python",
   "name": "python",
   "nbconvert_exporter": "python",
   "pygments_lexer": "ipython3",
   "version": "3.11.3"
  }
 },
 "nbformat": 4,
 "nbformat_minor": 5
}
