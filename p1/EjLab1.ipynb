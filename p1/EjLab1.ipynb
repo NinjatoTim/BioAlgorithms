{
 "cells": [
  {
   "cell_type": "markdown",
   "id": "17e5af85-6eec-45a6-8b1d-2ca94bc4acf5",
   "metadata": {},
   "source": [
    "Ejercicio laboratorio 1"
   ]
  },
  {
   "cell_type": "code",
   "execution_count": 1,
   "id": "8b8cac79-6711-49db-b7e3-adaf52d4790a",
   "metadata": {},
   "outputs": [
    {
     "name": "stdout",
     "output_type": "stream",
     "text": [
      "60\n"
     ]
    }
   ],
   "source": [
    "def f25(x):\n",
    "    a=0\n",
    "    b=0\n",
    "    r=a+b\n",
    "    for i in range (len(x)):\n",
    "        a+=x[i]\n",
    "        b*=x[i]\n",
    "        r=a+b \n",
    "    return r;\n",
    "\n",
    "print(f25([20,-10,50]));"
   ]
  },
  {
   "cell_type": "markdown",
   "id": "d3bdd625-de97-4fbf-ac30-43c0948eb67a",
   "metadata": {},
   "source": [
    "Implemente la siguiente función en lenguaje de su preferencia, adjunte código y pruebe F11(0.5, 0.3), F11(-1, -1) (archivo PDF o notebook)"
   ]
  },
  {
   "cell_type": "code",
   "execution_count": 2,
   "id": "4ed8696b-2dee-482c-88ae-7a99ed30f5f9",
   "metadata": {},
   "outputs": [
    {
     "name": "stdout",
     "output_type": "stream",
     "text": [
      "Prueba 1 | (0.5, 0.3) :\n",
      "2.1200814387842453\n",
      "\n",
      "Prueba 2 | (-1, -1) :\n",
      "0.0\n"
     ]
    }
   ],
   "source": [
    "def f11(x):\n",
    "    tb=0 ##Sumatoria b xi^2\n",
    "    tc=0 ##Sumatoria c xi\n",
    "    dl=len(x) ##D\n",
    "    for i in range (dl):\n",
    "        tb+= x[i]**2\n",
    "        tc+=x[i]\n",
    "    ##integracion\n",
    "    r= abs(tb-dl)**(1/4) + ((0.5*tb) + tc)/dl + 0.5\n",
    "    return r\n",
    "print(\"Prueba 1 | (0.5, 0.3) :\")\n",
    "print(f11([0.5,0.3]))\n",
    "print(\"\\nPrueba 2 | (-1, -1) :\")\n",
    "print(f11([-1,-1]))"
   ]
  }
 ],
 "metadata": {
  "kernelspec": {
   "display_name": "main-py3",
   "language": "python",
   "name": "main-py3"
  },
  "language_info": {
   "codemirror_mode": {
    "name": "ipython",
    "version": 3
   },
   "file_extension": ".py",
   "mimetype": "text/x-python",
   "name": "python",
   "nbconvert_exporter": "python",
   "pygments_lexer": "ipython3",
   "version": "3.11.3"
  }
 },
 "nbformat": 4,
 "nbformat_minor": 5
}
